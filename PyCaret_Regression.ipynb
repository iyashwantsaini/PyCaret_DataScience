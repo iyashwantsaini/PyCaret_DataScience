{
 "cells": [
  {
   "cell_type": "code",
   "execution_count": null,
   "metadata": {
    "id": "kthujQQGxpTU"
   },
   "outputs": [],
   "source": [
    "from pycaret.utils import version\n",
    "version()"
   ]
  },
  {
   "cell_type": "code",
   "execution_count": null,
   "metadata": {
    "id": "yF1gYLbcyE13"
   },
   "outputs": [],
   "source": [
    "import pandas as pd\n",
    "from pycaret.datasets import get_data"
   ]
  },
  {
   "cell_type": "code",
   "execution_count": null,
   "metadata": {
    "id": "LrwyEG9pylfM"
   },
   "outputs": [],
   "source": [
    "## Way 1 - Importing from Local Directory\n",
    "ds = pd.read_csv('data.csv')\n",
    "\n",
    "## Way 2 - importing from PyCaret\n",
    "# ds = get_data('boston')\n",
    "\n",
    "## Way 3 - Importing from a link\n",
    "# ds1 = pd.read_csv('https://raw.githubusercontent.com/datasciencedojo/datasets/master/titanic.csv')"
   ]
  },
  {
   "cell_type": "code",
   "execution_count": null,
   "metadata": {},
   "outputs": [],
   "source": [
    "ds=ds.dropna()\n",
    "ds=ds.drop_duplicates()\n",
    "print(ds.shape)"
   ]
  },
  {
   "cell_type": "code",
   "execution_count": null,
   "metadata": {
    "id": "FKyjfGDYy3kp"
   },
   "outputs": [],
   "source": [
    "from pycaret.regression import *"
   ]
  },
  {
   "cell_type": "code",
   "execution_count": null,
   "metadata": {
    "id": "v0tQcvkt4OAc"
   },
   "outputs": [],
   "source": [
    "## Target variable in xy\n",
    "xy = 'f4'\n",
    "## No of folds in y\n",
    "y = 15"
   ]
  },
  {
   "cell_type": "code",
   "execution_count": null,
   "metadata": {
    "id": "EtI1LAJby6Ez"
   },
   "outputs": [],
   "source": [
    "## Question 1\n",
    "setup(data = ds, target = xy, data_split_shuffle=False)\n",
    "compare_models(fold=y)"
   ]
  },
  {
   "cell_type": "code",
   "execution_count": null,
   "metadata": {
    "id": "b6EkH3ZYzP7Z"
   },
   "outputs": [],
   "source": [
    "## Question 3\n",
    "setup(data = ds, target = xy, data_split_shuffle=False, normalize = True, normalize_method=\n",
    "      'zscore')\n",
    "compare_models(fold=y)"
   ]
  },
  {
   "cell_type": "code",
   "execution_count": null,
   "metadata": {
    "id": "pQhoQeYAzRSn"
   },
   "outputs": [],
   "source": [
    "## Question 5\n",
    "setup(data = ds, target = xy, data_split_shuffle=False, normalize = True, normalize_method='zscore', transformation=True, transformation_method='yeo-johnson')\n",
    "compare_models(fold=y)"
   ]
  },
  {
   "cell_type": "code",
   "execution_count": null,
   "metadata": {
    "id": "ft7J0KbGzSo5"
   },
   "outputs": [],
   "source": [
    "## Question 7\n",
    "setup(data = ds, target = xy, data_split_shuffle=False, normalize = True, normalize_method = 'zscore', remove_outliers=True, outliers_threshold=0.1)\n",
    "compare_models(fold=y)"
   ]
  },
  {
   "cell_type": "code",
   "execution_count": null,
   "metadata": {
    "id": "RiwYxAxKzTcq",
    "scrolled": true
   },
   "outputs": [],
   "source": [
    "## Question 9\n",
    "setup(data = ds, target = xy, data_split_shuffle=False, pca = True, pca_method='linear', remove_outliers=True, outliers_threshold=0.15)\n",
    "compare_models(fold=y)"
   ]
  },
  {
   "cell_type": "code",
   "execution_count": null,
   "metadata": {},
   "outputs": [],
   "source": []
  }
 ],
 "metadata": {
  "colab": {
   "collapsed_sections": [],
   "name": "MST Quiz -1 (2).ipynb",
   "provenance": []
  },
  "kernelspec": {
   "display_name": "Python 3",
   "language": "python",
   "name": "python3"
  },
  "language_info": {
   "codemirror_mode": {
    "name": "ipython",
    "version": 3
   },
   "file_extension": ".py",
   "mimetype": "text/x-python",
   "name": "python",
   "nbconvert_exporter": "python",
   "pygments_lexer": "ipython3",
   "version": "3.8.3"
  }
 },
 "nbformat": 4,
 "nbformat_minor": 1
}
